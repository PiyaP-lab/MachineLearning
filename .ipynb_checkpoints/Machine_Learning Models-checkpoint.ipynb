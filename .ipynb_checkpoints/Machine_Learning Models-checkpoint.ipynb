{
 "cells": [
  {
   "cell_type": "markdown",
   "id": "897935cc",
   "metadata": {},
   "source": [
    "## Machine learning models can be classified into following two categories on the basis of learning algorithm:\n",
    "- Supervised learning method: Past data with labels is available to build the model\n",
    " - Regression: The output variable is continuous in nature\n",
    "- Classification: The output variable is categorical in nature\n",
    "- Unsupervised learning method: Past data with labels are not available\n",
    "- Clustering: No pre-defined notion of labels is there\n",
    "\n",
    "###  Past data set is divided into two parts during supervised learning method: \n",
    "- Training data  is used for the model to learn during modelling\n",
    "- Testing data is used by the trained model for prediction and model evaluation\n",
    "###  Linear regression models can be classified into two types depending upon the number of independent variables: \n",
    "- Simple linear regression: When the number of independent variables is 1\n",
    " - Multiple linear regression: When the number of independent variables is more than 1\n",
    "## The equation of the best fit regression line Y = β₀ + β₁X can be found by minimising the cost function (RSS in this case, using the Ordinary Least Squares method) which is done using the following two methods:\n",
    "- Differentiation\n",
    "- Gradient descent method\n",
    "## The strength of a linear regression model is mainly explained by R²,  where R² = 1 - (RSS / TSS)\n",
    "- RSS: Residual Sum of Squares\n",
    "- TSS: Total Sum of Squares\n",
    "\n",
    "## Interview questions -\n",
    " - The value of the correlation coefficient always lies between -1 and 1, where a negative value implies a negative correlation, a positive value shows a positive correlation, and a zero value shows no correlation.\n",
    " - The strength of a linear regression line is determined by the value of the R-squared. If this value is found to be 0, what does it imply - The value of R-squared lies between 0 and 1, where 1 implies that the variance in the data is being explained by the model, and 0 implies that none of the variance values is being explained by the model. Obviously, it is very difficult to achieve either of the extreme values.\n",
    " \n",
    " - Suppose that you run a linear regression on the data, where you have X as the independent variable and y as the target variable. You find that the correlation between y and X is -0.92.The absolute value of the correlated coefficient is very high. The negative sign just implies that X and y are negatively correlated."
   ]
  },
  {
   "cell_type": "markdown",
   "id": "98eba793",
   "metadata": {},
   "source": [
    "## Simple Linear Regression\n",
    "In this we will build a linear regression model to predict sales using appropriate prdictor value \n",
    "\n",
    "\n",
    "### Step 1: Reading and understanding Data\n",
    " - Importing data using pandas library\n",
    " - Understanding the structure of the data by visualizing the data and understanding the co-relations\n",
    " "
   ]
  },
  {
   "cell_type": "code",
   "execution_count": 40,
   "id": "85c90019",
   "metadata": {},
   "outputs": [],
   "source": [
    "import pandas as pd\n",
    "import numpy as np\n",
    "import matplotlib.pyplot as plt\n",
    "import seaborn as sns\n",
    "\n",
    "import statsmodels\n",
    "import statsmodels.api as sm\n",
    "import sklearn\n",
    "from sklearn.model_selection import train_test_split\n",
    "from sklearn.metrics import mean_squared_error\n",
    "from sklearn.metrics import r2_score\n",
    "from sklearn.linear_model import LinearRegression"
   ]
  },
  {
   "cell_type": "code",
   "execution_count": 2,
   "id": "d11ec848",
   "metadata": {},
   "outputs": [
    {
     "data": {
      "text/html": [
       "<div>\n",
       "<style scoped>\n",
       "    .dataframe tbody tr th:only-of-type {\n",
       "        vertical-align: middle;\n",
       "    }\n",
       "\n",
       "    .dataframe tbody tr th {\n",
       "        vertical-align: top;\n",
       "    }\n",
       "\n",
       "    .dataframe thead th {\n",
       "        text-align: right;\n",
       "    }\n",
       "</style>\n",
       "<table border=\"1\" class=\"dataframe\">\n",
       "  <thead>\n",
       "    <tr style=\"text-align: right;\">\n",
       "      <th></th>\n",
       "      <th>TV</th>\n",
       "      <th>Radio</th>\n",
       "      <th>Newspaper</th>\n",
       "      <th>Sales</th>\n",
       "    </tr>\n",
       "  </thead>\n",
       "  <tbody>\n",
       "    <tr>\n",
       "      <th>0</th>\n",
       "      <td>230.1</td>\n",
       "      <td>37.8</td>\n",
       "      <td>69.2</td>\n",
       "      <td>22.1</td>\n",
       "    </tr>\n",
       "    <tr>\n",
       "      <th>1</th>\n",
       "      <td>44.5</td>\n",
       "      <td>39.3</td>\n",
       "      <td>45.1</td>\n",
       "      <td>10.4</td>\n",
       "    </tr>\n",
       "    <tr>\n",
       "      <th>2</th>\n",
       "      <td>17.2</td>\n",
       "      <td>45.9</td>\n",
       "      <td>69.3</td>\n",
       "      <td>12.0</td>\n",
       "    </tr>\n",
       "    <tr>\n",
       "      <th>3</th>\n",
       "      <td>151.5</td>\n",
       "      <td>41.3</td>\n",
       "      <td>58.5</td>\n",
       "      <td>16.5</td>\n",
       "    </tr>\n",
       "    <tr>\n",
       "      <th>4</th>\n",
       "      <td>180.8</td>\n",
       "      <td>10.8</td>\n",
       "      <td>58.4</td>\n",
       "      <td>17.9</td>\n",
       "    </tr>\n",
       "  </tbody>\n",
       "</table>\n",
       "</div>"
      ],
      "text/plain": [
       "      TV  Radio  Newspaper  Sales\n",
       "0  230.1   37.8       69.2   22.1\n",
       "1   44.5   39.3       45.1   10.4\n",
       "2   17.2   45.9       69.3   12.0\n",
       "3  151.5   41.3       58.5   16.5\n",
       "4  180.8   10.8       58.4   17.9"
      ]
     },
     "execution_count": 2,
     "metadata": {},
     "output_type": "execute_result"
    }
   ],
   "source": [
    "#read the data\n",
    "adverstising = pd.read_csv('advertising.csv')\n",
    "adverstising.head()"
   ]
  },
  {
   "cell_type": "markdown",
   "id": "ebe1107b",
   "metadata": {},
   "source": [
    "- In the above dataset there are 4columns where sales is the target variable and rest 3 columns are predictive variable.This dataset shows different market where company had spend on the products and that is the sales the company received (eg. 230 unit on TV) .Our goal is to build a regression model which predict sales using this three variables and use of this model is which of the advertising channel is more effective"
   ]
  },
  {
   "cell_type": "code",
   "execution_count": 3,
   "id": "58cb2e3b",
   "metadata": {},
   "outputs": [
    {
     "data": {
      "text/plain": [
       "(200, 4)"
      ]
     },
     "execution_count": 3,
     "metadata": {},
     "output_type": "execute_result"
    }
   ],
   "source": [
    "#check the shape of the dataset\n",
    "adverstising.shape"
   ]
  },
  {
   "cell_type": "code",
   "execution_count": 4,
   "id": "a7bf89b3",
   "metadata": {},
   "outputs": [
    {
     "name": "stdout",
     "output_type": "stream",
     "text": [
      "<class 'pandas.core.frame.DataFrame'>\n",
      "RangeIndex: 200 entries, 0 to 199\n",
      "Data columns (total 4 columns):\n",
      " #   Column     Non-Null Count  Dtype  \n",
      "---  ------     --------------  -----  \n",
      " 0   TV         200 non-null    float64\n",
      " 1   Radio      200 non-null    float64\n",
      " 2   Newspaper  200 non-null    float64\n",
      " 3   Sales      200 non-null    float64\n",
      "dtypes: float64(4)\n",
      "memory usage: 6.4 KB\n"
     ]
    }
   ],
   "source": [
    "#check info to check missing values\n",
    "adverstising.info()"
   ]
  },
  {
   "cell_type": "code",
   "execution_count": 5,
   "id": "76c93b56",
   "metadata": {},
   "outputs": [
    {
     "data": {
      "text/html": [
       "<div>\n",
       "<style scoped>\n",
       "    .dataframe tbody tr th:only-of-type {\n",
       "        vertical-align: middle;\n",
       "    }\n",
       "\n",
       "    .dataframe tbody tr th {\n",
       "        vertical-align: top;\n",
       "    }\n",
       "\n",
       "    .dataframe thead th {\n",
       "        text-align: right;\n",
       "    }\n",
       "</style>\n",
       "<table border=\"1\" class=\"dataframe\">\n",
       "  <thead>\n",
       "    <tr style=\"text-align: right;\">\n",
       "      <th></th>\n",
       "      <th>TV</th>\n",
       "      <th>Radio</th>\n",
       "      <th>Newspaper</th>\n",
       "      <th>Sales</th>\n",
       "    </tr>\n",
       "  </thead>\n",
       "  <tbody>\n",
       "    <tr>\n",
       "      <th>count</th>\n",
       "      <td>200.000000</td>\n",
       "      <td>200.000000</td>\n",
       "      <td>200.000000</td>\n",
       "      <td>200.000000</td>\n",
       "    </tr>\n",
       "    <tr>\n",
       "      <th>mean</th>\n",
       "      <td>147.042500</td>\n",
       "      <td>23.264000</td>\n",
       "      <td>30.554000</td>\n",
       "      <td>15.130500</td>\n",
       "    </tr>\n",
       "    <tr>\n",
       "      <th>std</th>\n",
       "      <td>85.854236</td>\n",
       "      <td>14.846809</td>\n",
       "      <td>21.778621</td>\n",
       "      <td>5.283892</td>\n",
       "    </tr>\n",
       "    <tr>\n",
       "      <th>min</th>\n",
       "      <td>0.700000</td>\n",
       "      <td>0.000000</td>\n",
       "      <td>0.300000</td>\n",
       "      <td>1.600000</td>\n",
       "    </tr>\n",
       "    <tr>\n",
       "      <th>25%</th>\n",
       "      <td>74.375000</td>\n",
       "      <td>9.975000</td>\n",
       "      <td>12.750000</td>\n",
       "      <td>11.000000</td>\n",
       "    </tr>\n",
       "    <tr>\n",
       "      <th>50%</th>\n",
       "      <td>149.750000</td>\n",
       "      <td>22.900000</td>\n",
       "      <td>25.750000</td>\n",
       "      <td>16.000000</td>\n",
       "    </tr>\n",
       "    <tr>\n",
       "      <th>75%</th>\n",
       "      <td>218.825000</td>\n",
       "      <td>36.525000</td>\n",
       "      <td>45.100000</td>\n",
       "      <td>19.050000</td>\n",
       "    </tr>\n",
       "    <tr>\n",
       "      <th>max</th>\n",
       "      <td>296.400000</td>\n",
       "      <td>49.600000</td>\n",
       "      <td>114.000000</td>\n",
       "      <td>27.000000</td>\n",
       "    </tr>\n",
       "  </tbody>\n",
       "</table>\n",
       "</div>"
      ],
      "text/plain": [
       "               TV       Radio   Newspaper       Sales\n",
       "count  200.000000  200.000000  200.000000  200.000000\n",
       "mean   147.042500   23.264000   30.554000   15.130500\n",
       "std     85.854236   14.846809   21.778621    5.283892\n",
       "min      0.700000    0.000000    0.300000    1.600000\n",
       "25%     74.375000    9.975000   12.750000   11.000000\n",
       "50%    149.750000   22.900000   25.750000   16.000000\n",
       "75%    218.825000   36.525000   45.100000   19.050000\n",
       "max    296.400000   49.600000  114.000000   27.000000"
      ]
     },
     "execution_count": 5,
     "metadata": {},
     "output_type": "execute_result"
    }
   ],
   "source": [
    "#summary statistics of dataset -\n",
    "adverstising.describe()"
   ]
  },
  {
   "cell_type": "markdown",
   "id": "0483a42c",
   "metadata": {},
   "source": [
    "- one good way is to look at the scatter plot because if the scatter shows a positive trend between the target variable and predictive variable  then we can undserstand if the model makes sense or not\n",
    "- we can also use reg plot for seaborn which stands for regression\n"
   ]
  },
  {
   "cell_type": "code",
   "execution_count": 6,
   "id": "a0ba2709",
   "metadata": {},
   "outputs": [
    {
     "data": {
      "text/plain": [
       "<AxesSubplot:xlabel='TV', ylabel='Sales'>"
      ]
     },
     "execution_count": 6,
     "metadata": {},
     "output_type": "execute_result"
    },
    {
     "data": {
      "image/png": "[encoded data removed]",
      "text/plain": [
       "<Figure size 432x288 with 1 Axes>"
      ]
     },
     "metadata": {
      "needs_background": "light"
     },
     "output_type": "display_data"
    }
   ],
   "source": [
    "#visualize the data where x is the train data(predictive variable) and y here is the test data(target varaiable)\n",
    "sns.regplot(x='TV',y='Sales',data=adverstising)\n"
   ]
  },
  {
   "cell_type": "code",
   "execution_count": 7,
   "id": "e47f0ce5",
   "metadata": {},
   "outputs": [
    {
     "data": {
      "text/plain": [
       "<AxesSubplot:xlabel='Radio', ylabel='Sales'>"
      ]
     },
     "execution_count": 7,
     "metadata": {},
     "output_type": "execute_result"
    },
    {
     "data": {
      "image/png": "[encoded data removed]",
      "text/plain": [
       "<Figure size 432x288 with 1 Axes>"
      ]
     },
     "metadata": {
      "needs_background": "light"
     },
     "output_type": "display_data"
    }
   ],
   "source": [
    "#same for other variables\n",
    "sns.regplot(x='Radio',y='Sales',data=adverstising)"
   ]
  },
  {
   "cell_type": "code",
   "execution_count": 10,
   "id": "2cfa489a",
   "metadata": {},
   "outputs": [
    {
     "data": {
      "text/plain": [
       "<AxesSubplot:xlabel='Newspaper', ylabel='Sales'>"
      ]
     },
     "execution_count": 10,
     "metadata": {},
     "output_type": "execute_result"
    },
    {
     "data": {
      "image/png": "[encoded data removed]",
      "text/plain": [
       "<Figure size 432x288 with 1 Axes>"
      ]
     },
     "metadata": {
      "needs_background": "light"
     },
     "output_type": "display_data"
    }
   ],
   "source": [
    "sns.regplot(x='Newspaper',y='Sales',data=adverstising)"
   ]
  },
  {
   "cell_type": "markdown",
   "id": "620305d7",
   "metadata": {},
   "source": [
    "- so from the inference we can see that the relationship between radio and sales is not as smooth(R2) is not as TV as in TV all the datapoints were hugging the straigt line but in radio the data is scattered.\n",
    "- so it is good idea to compare this scatter plots of all the predictive variables to target variables which can be done using pair plot.\n",
    "- so from below we can see the TV and sales has high corelation but the radio and sales is not strong and with newspaper it has less co-efficient\n",
    "- from tv and sales the model is too be strong\n",
    "- when we go ahead we will get the co-efficients"
   ]
  },
  {
   "cell_type": "code",
   "execution_count": 8,
   "id": "f354d741",
   "metadata": {},
   "outputs": [
    {
     "data": {
      "text/plain": [
       "<seaborn.axisgrid.PairGrid at 0x7fbcd481c160>"
      ]
     },
     "execution_count": 8,
     "metadata": {},
     "output_type": "execute_result"
    },
    {
     "data": {
      "image/png": "[encoded data removed]",
      "text/plain": [
       "<Figure size 540x180 with 3 Axes>"
      ]
     },
     "metadata": {
      "needs_background": "light"
     },
     "output_type": "display_data"
    }
   ],
   "source": [
    "#pair plot\n",
    "sns.pairplot(data=adverstising,x_vars=('TV','Radio','Newspaper'),y_vars='Sales')"
   ]
  },
  {
   "cell_type": "markdown",
   "id": "1f87ec4d",
   "metadata": {},
   "source": [
    " - visualize co-relation between multiple variables is heatmap\n",
    " - first check the co-rleation"
   ]
  },
  {
   "cell_type": "code",
   "execution_count": 9,
   "id": "e432c1bd",
   "metadata": {},
   "outputs": [
    {
     "data": {
      "text/html": [
       "<div>\n",
       "<style scoped>\n",
       "    .dataframe tbody tr th:only-of-type {\n",
       "        vertical-align: middle;\n",
       "    }\n",
       "\n",
       "    .dataframe tbody tr th {\n",
       "        vertical-align: top;\n",
       "    }\n",
       "\n",
       "    .dataframe thead th {\n",
       "        text-align: right;\n",
       "    }\n",
       "</style>\n",
       "<table border=\"1\" class=\"dataframe\">\n",
       "  <thead>\n",
       "    <tr style=\"text-align: right;\">\n",
       "      <th></th>\n",
       "      <th>TV</th>\n",
       "      <th>Radio</th>\n",
       "      <th>Newspaper</th>\n",
       "      <th>Sales</th>\n",
       "    </tr>\n",
       "  </thead>\n",
       "  <tbody>\n",
       "    <tr>\n",
       "      <th>TV</th>\n",
       "      <td>1.000000</td>\n",
       "      <td>0.054809</td>\n",
       "      <td>0.056648</td>\n",
       "      <td>0.901208</td>\n",
       "    </tr>\n",
       "    <tr>\n",
       "      <th>Radio</th>\n",
       "      <td>0.054809</td>\n",
       "      <td>1.000000</td>\n",
       "      <td>0.354104</td>\n",
       "      <td>0.349631</td>\n",
       "    </tr>\n",
       "    <tr>\n",
       "      <th>Newspaper</th>\n",
       "      <td>0.056648</td>\n",
       "      <td>0.354104</td>\n",
       "      <td>1.000000</td>\n",
       "      <td>0.157960</td>\n",
       "    </tr>\n",
       "    <tr>\n",
       "      <th>Sales</th>\n",
       "      <td>0.901208</td>\n",
       "      <td>0.349631</td>\n",
       "      <td>0.157960</td>\n",
       "      <td>1.000000</td>\n",
       "    </tr>\n",
       "  </tbody>\n",
       "</table>\n",
       "</div>"
      ],
      "text/plain": [
       "                 TV     Radio  Newspaper     Sales\n",
       "TV         1.000000  0.054809   0.056648  0.901208\n",
       "Radio      0.054809  1.000000   0.354104  0.349631\n",
       "Newspaper  0.056648  0.354104   1.000000  0.157960\n",
       "Sales      0.901208  0.349631   0.157960  1.000000"
      ]
     },
     "execution_count": 9,
     "metadata": {},
     "output_type": "execute_result"
    }
   ],
   "source": [
    "adverstising.corr()\n"
   ]
  },
  {
   "cell_type": "code",
   "execution_count": 10,
   "id": "4162e2d6",
   "metadata": {},
   "outputs": [
    {
     "data": {
      "text/plain": [
       "<AxesSubplot:>"
      ]
     },
     "execution_count": 10,
     "metadata": {},
     "output_type": "execute_result"
    },
    {
     "data": {
      "image/png": "[encoded data removed]",
      "text/plain": [
       "<Figure size 432x288 with 2 Axes>"
      ]
     },
     "metadata": {
      "needs_background": "light"
     },
     "output_type": "display_data"
    }
   ],
   "source": [
    "#visualize the above using annotation annot\n",
    "sns.heatmap(adverstising.corr(), annot=True)"
   ]
  },
  {
   "cell_type": "markdown",
   "id": "ae59cf59",
   "metadata": {},
   "source": [
    "## Before we start designing model we need to understand about Hypothesis testing as it helps us to decide on the model\n",
    "\n",
    "- Hypothesis — a claim or an assumption that you make about one or more population parameters\n",
    " ### Types of hypothesis:\n",
    "\n",
    "- Null hypothesis (H₀) - Makes an assumption about the status quo\n",
    "                                     - Always contains the symbols ‘=’, ‘≤’ or ‘≥’\n",
    "\n",
    "- Alternate hypothesis (H₁) - Challenges and complements the null hypothesis\n",
    "\n",
    "                                                                  - Always contains the symbols ‘≠’, ‘<’ or ‘>’\n",
    "\n",
    "### Types of tests:\n",
    "- Two-tailed test - The critical region lies on both sides of the distribution\n",
    "                             - The alternate hypothesis contains the ≠ sign\n",
    "- Lower-tailed test - The critical region lies on the left side of the distribution\n",
    "                                - The alternate hypothesis contains the < sign\n",
    "- Upper-tailed test - The critical region lies on the right side of the distribution\n",
    "                                                 - The alternate hypothesis contains the > sign\n",
    "\n",
    "### Making a decision - Critical value method:\n",
    "\n",
    "- Calculate the value of Zc from the given value of α (significance level)(1−α)\n",
    "\n",
    "- Calculate the critical values (UCV and LCV) from the value of Zc\n",
    "\n",
    "LCV=μ−Z*SE\n",
    "UCV=μ+Z⋅SE\n",
    "\n",
    "SE= 𝜎/SQUARE ROOT OF N where n is sample\n",
    " \n",
    " These are the critical boundaries for your two-tailed test at the  significance level.\n",
    "\n",
    "\n",
    "- Make the decision on the basis of the value of the sample mean \n",
    "¯\n",
    "x\n",
    " - with respect to the critical values (UCV AND LCV)\n",
    "\n",
    " "
   ]
  },
  {
   "cell_type": "markdown",
   "id": "90bcdf0d",
   "metadata": {},
   "source": [
    "### P-Value\n",
    "\n",
    "#### Problem statement :-\n",
    "Let’s say you work at a pharmaceutical company that manufactures an antipyretic drug in tablet form, with paracetamol as the active ingredient. An antipyretic drug reduces fever. The amount of paracetamol deemed safe by the drug regulatory authorities is 500 mg. If the value of paracetamol is too low, it will make the drug ineffective and become a quality issue for your company. On the other hand, a value that is too high would become a serious regulatory issue.\n",
    "\n",
    " \n",
    "\n",
    "There are 10 identical manufacturing lines in the pharma plant, each of which produces approximately 10,000 tablets per hour.\n",
    "\n",
    " \n",
    "\n",
    "Your task is to take a few samples, measure the amount of paracetamol in them, and test the hypothesis that the manufacturing process is running successfully, i.e. the paracetamol content is within regulation. You have the time and resources to take about 900 sample tablets and measure the paracetamol content in each.\n",
    "\n",
    " \n",
    "\n",
    "Upon sampling 900 tablets, you get an average content of 510 mg with a standard deviation of 110. What does the test suggest, if you set the significance level at 5%? Should you be happy with the manufacturing process or should you ask the production team to alter the process? Is it a regulatory alarm or a quality issue?\n",
    "\n",
    "##### Solution\n",
    "\n",
    "We're testing whether the paracetamol content significantly differs from the safe limit (500 mg), so this is a two-tailed test.\n",
    "\n",
    "Null hypothesis \n",
    "𝐻\n",
    "0\n",
    "H \n",
    "0\n",
    "​\n",
    " : \n",
    "𝜇\n",
    "=\n",
    "500\n",
    "μ=500 mg\n",
    "\n",
    "Alternative hypothesis \n",
    "𝐻\n",
    "1\n",
    "H \n",
    "1\n",
    "​\n",
    " : \n",
    "𝜇\n",
    "≠\n",
    "500\n",
    "μ\n",
    "\n",
    "=500 mg\n",
    "\n",
    "\n",
    "Sample mean \n",
    "𝑥\n",
    "ˉ\n",
    "=\n",
    "510\n",
    "x\n",
    "ˉ\n",
    " =510 mg\n",
    "\n",
    "Population mean \n",
    "𝜇\n",
    "=\n",
    "500\n",
    "μ=500 mg\n",
    "\n",
    "Sample standard deviation \n",
    "𝑠\n",
    "=\n",
    "110\n",
    "s=110 mg\n",
    "\n",
    "Sample size \n",
    "𝑛\n",
    "=\n",
    "900\n",
    "n=900\n",
    "\n",
    "Significance level \n",
    "𝛼\n",
    "=\n",
    "0.05\n",
    "α=0.05 (5%)\n",
    "\n",
    "3: Calculate the Standard Error (SE) =. s/square root of n\n",
    "Compute the z-score\n",
    "Since this is a two-tailed test, we calculate:\n",
    "\n",
    "𝑝\n",
    "=\n",
    "2\n",
    "×\n",
    "𝑃\n",
    "(\n",
    "𝑍\n",
    ">\n",
    "2.72\n",
    ")\n",
    "p=2×P(Z>2.72)\n",
    "From the z-table:\n",
    "\n",
    "𝑃\n",
    "(\n",
    "𝑍\n",
    ">\n",
    "2.72\n",
    ")\n",
    "≈\n",
    "0.0033\n",
    "P(Z>2.72)≈0.0033\n",
    "\n",
    "So,\n",
    "\n",
    "𝑝\n",
    "=\n",
    "2\n",
    "×\n",
    "0.0033\n",
    "=\n",
    "0.0066\n",
    "p=2×0.0033=0.0066\n",
    "\n",
    "\n",
    "p-value ≈ 0.0066\n",
    "\n",
    "Since \n",
    "𝑝\n",
    "<\n",
    "𝛼\n",
    "=\n",
    "0.05\n",
    "p<α=0.05, you reject the null hypothesis.\n",
    "\n",
    "There is strong evidence that the mean paracetamol content is not 500 mg — in fact, it's higher, raising a regulatory concern.\n",
    "\n"
   ]
  },
  {
   "cell_type": "markdown",
   "id": "42ea96ae",
   "metadata": {},
   "source": [
    "-- Making a decision - p-value method:\n",
    "Calculate the value of Z-score for the sample mean point on the distribution\n",
    "\n",
    "Calculate the p-value from the cumulative probability for the given z-score using the z-table\n",
    "\n",
    "Make the decision on the basis of the p-value with respect to the given value of α (signIficance level)\n",
    "\n",
    " \n",
    "\n",
    "Types of errors:\n",
    "Type-I error    - Occurs when you reject a null hypothesis even when it is true\n",
    "                          - Its probability is represented by α\n",
    "\n",
    "Type-II error   - Occurs when you fail to reject the null hypotheses even though it is false\n",
    "\n",
    "                                   - Its probability is represented by β"
   ]
  },
  {
   "cell_type": "markdown",
   "id": "ee10952b",
   "metadata": {},
   "source": [
    "### Step 2: Building a Simple Linear Regression\n",
    "\n",
    "Equation of linear regression:-\n",
    "y = c + m1x1+m2x2+.....\n",
    "\n",
    "- y is the response\n",
    "- c is the intercept\n",
    "- m1 is the coefficient for the 1st feature\n",
    "\n",
    "In our case -\n",
    "y = c +m1 * TV\n",
    "\n",
    "The m values are called <b>model coefficients</b> or <b>model parameters</b>\n",
    "The library used is statsmodel"
   ]
  },
  {
   "cell_type": "markdown",
   "id": "b9acab43",
   "metadata": {},
   "source": [
    "## Steps to create model:-\n",
    "\n",
    "1. Create x and y where x is the sales and y is the tv\n",
    "2. Create train and test sets(70-30 ,80-20)\n",
    "3. Train your model on the training sets (to learn the co-efficients)\n",
    "4. We evaluate the model (on test set but can be evaluated on train set to see if the model fits)\n"
   ]
  },
  {
   "cell_type": "code",
   "execution_count": 11,
   "id": "2c3da9be",
   "metadata": {},
   "outputs": [],
   "source": [
    "# Create x and y where x is in capital case .The reason is x will be \n",
    "#a dataframe and not a single column as its a predictive variable and y is the target variable so kept in lowercase\n",
    "X = adverstising['TV']\n",
    "y = adverstising['Sales']\n",
    "\n"
   ]
  },
  {
   "cell_type": "code",
   "execution_count": 16,
   "id": "cd417b5d",
   "metadata": {},
   "outputs": [
    {
     "data": {
      "text/plain": [
       "(140,)"
      ]
     },
     "execution_count": 16,
     "metadata": {},
     "output_type": "execute_result"
    }
   ],
   "source": [
    "#create train-test split (we can write own code to sample 70 % randpomly from dataset(trainset) but we dont need to do that as \n",
    "#skikit comes with its own module which we have imported above)\n",
    "\n",
    "X_train,X_test,y_train,y_test = train_test_split(X,y,train_size=0.70,random_state=100)\n",
    "X_train.shape\n",
    "#X_test,y_train,y_test"
   ]
  },
  {
   "cell_type": "code",
   "execution_count": 17,
   "id": "6b74cc52",
   "metadata": {},
   "outputs": [
    {
     "data": {
      "text/html": [
       "<div>\n",
       "<style scoped>\n",
       "    .dataframe tbody tr th:only-of-type {\n",
       "        vertical-align: middle;\n",
       "    }\n",
       "\n",
       "    .dataframe tbody tr th {\n",
       "        vertical-align: top;\n",
       "    }\n",
       "\n",
       "    .dataframe thead th {\n",
       "        text-align: right;\n",
       "    }\n",
       "</style>\n",
       "<table border=\"1\" class=\"dataframe\">\n",
       "  <thead>\n",
       "    <tr style=\"text-align: right;\">\n",
       "      <th></th>\n",
       "      <th>const</th>\n",
       "      <th>TV</th>\n",
       "    </tr>\n",
       "  </thead>\n",
       "  <tbody>\n",
       "    <tr>\n",
       "      <th>74</th>\n",
       "      <td>1.0</td>\n",
       "      <td>213.4</td>\n",
       "    </tr>\n",
       "    <tr>\n",
       "      <th>3</th>\n",
       "      <td>1.0</td>\n",
       "      <td>151.5</td>\n",
       "    </tr>\n",
       "    <tr>\n",
       "      <th>185</th>\n",
       "      <td>1.0</td>\n",
       "      <td>205.0</td>\n",
       "    </tr>\n",
       "    <tr>\n",
       "      <th>26</th>\n",
       "      <td>1.0</td>\n",
       "      <td>142.9</td>\n",
       "    </tr>\n",
       "    <tr>\n",
       "      <th>90</th>\n",
       "      <td>1.0</td>\n",
       "      <td>134.3</td>\n",
       "    </tr>\n",
       "  </tbody>\n",
       "</table>\n",
       "</div>"
      ],
      "text/plain": [
       "     const     TV\n",
       "74     1.0  213.4\n",
       "3      1.0  151.5\n",
       "185    1.0  205.0\n",
       "26     1.0  142.9\n",
       "90     1.0  134.3"
      ]
     },
     "execution_count": 17,
     "metadata": {},
     "output_type": "execute_result"
    }
   ],
   "source": [
    "#Training the model\n",
    "# we have statsmodel and sklearn to train model \n",
    "#using statsmodel to train the model\n",
    "#by default intercept in not included in statsmodel even though we know the linear equation y = mx+c but we donot want to exclude the non-zero value of intercept\n",
    "#so to add constant to statsmodel for intercept -\n",
    "#create new version of test models\n",
    "\n",
    "X_train_sm = sm.add_constant(X_train)\n",
    "#we have give xtrain dataframe to statsmodel and it add constant as const so the co-effiecient of this basically the intercept\n",
    "#y = c.const + m1.TV\n",
    "X_train_sm.head()"
   ]
  },
  {
   "cell_type": "markdown",
   "id": "b3b01994",
   "metadata": {},
   "source": [
    "Here, <b>OLS</b> stands for <b>Ordinary Least Squares</b>, which is the method that 'statsmodels' use to fit the line. You use the command 'add_constant' so that statsmodels also fits an intercept. If you don't use this command, it will fit a line passing through the origin by default."
   ]
  },
  {
   "cell_type": "code",
   "execution_count": 18,
   "id": "73c00f4d",
   "metadata": {},
   "outputs": [
    {
     "data": {
      "text/plain": [
       "const    6.948683\n",
       "TV       0.054546\n",
       "dtype: float64"
      ]
     },
     "execution_count": 18,
     "metadata": {},
     "output_type": "execute_result"
    }
   ],
   "source": [
    "#fitting the model - you give algorithm a training set(i.e.X_train_sm,y_test)\n",
    "#OLS = Oridinary lease square\n",
    "#square of the error is minimized process = OLS\n",
    "#so create an object of class\n",
    "lr = sm.OLS(y_train,X_train_sm)\n",
    "#use the object by storing it in lr/-model\n",
    "lr_model = lr.fit()\n",
    "lr_model.params"
   ]
  },
  {
   "cell_type": "code",
   "execution_count": 19,
   "id": "abac6ab0",
   "metadata": {},
   "outputs": [
    {
     "data": {
      "text/html": [
       "<table class=\"simpletable\">\n",
       "<caption>OLS Regression Results</caption>\n",
       "<tr>\n",
       "  <th>Dep. Variable:</th>          <td>Sales</td>      <th>  R-squared:         </th> <td>   0.816</td>\n",
       "</tr>\n",
       "<tr>\n",
       "  <th>Model:</th>                   <td>OLS</td>       <th>  Adj. R-squared:    </th> <td>   0.814</td>\n",
       "</tr>\n",
       "<tr>\n",
       "  <th>Method:</th>             <td>Least Squares</td>  <th>  F-statistic:       </th> <td>   611.2</td>\n",
       "</tr>\n",
       "<tr>\n",
       "  <th>Date:</th>             <td>Mon, 02 Jun 2025</td> <th>  Prob (F-statistic):</th> <td>1.52e-52</td>\n",
       "</tr>\n",
       "<tr>\n",
       "  <th>Time:</th>                 <td>13:35:43</td>     <th>  Log-Likelihood:    </th> <td> -321.12</td>\n",
       "</tr>\n",
       "<tr>\n",
       "  <th>No. Observations:</th>      <td>   140</td>      <th>  AIC:               </th> <td>   646.2</td>\n",
       "</tr>\n",
       "<tr>\n",
       "  <th>Df Residuals:</th>          <td>   138</td>      <th>  BIC:               </th> <td>   652.1</td>\n",
       "</tr>\n",
       "<tr>\n",
       "  <th>Df Model:</th>              <td>     1</td>      <th>                     </th>     <td> </td>   \n",
       "</tr>\n",
       "<tr>\n",
       "  <th>Covariance Type:</th>      <td>nonrobust</td>    <th>                     </th>     <td> </td>   \n",
       "</tr>\n",
       "</table>\n",
       "<table class=\"simpletable\">\n",
       "<tr>\n",
       "    <td></td>       <th>coef</th>     <th>std err</th>      <th>t</th>      <th>P>|t|</th>  <th>[0.025</th>    <th>0.975]</th>  \n",
       "</tr>\n",
       "<tr>\n",
       "  <th>const</th> <td>    6.9487</td> <td>    0.385</td> <td>   18.068</td> <td> 0.000</td> <td>    6.188</td> <td>    7.709</td>\n",
       "</tr>\n",
       "<tr>\n",
       "  <th>TV</th>    <td>    0.0545</td> <td>    0.002</td> <td>   24.722</td> <td> 0.000</td> <td>    0.050</td> <td>    0.059</td>\n",
       "</tr>\n",
       "</table>\n",
       "<table class=\"simpletable\">\n",
       "<tr>\n",
       "  <th>Omnibus:</th>       <td> 0.027</td> <th>  Durbin-Watson:     </th> <td>   2.196</td>\n",
       "</tr>\n",
       "<tr>\n",
       "  <th>Prob(Omnibus):</th> <td> 0.987</td> <th>  Jarque-Bera (JB):  </th> <td>   0.150</td>\n",
       "</tr>\n",
       "<tr>\n",
       "  <th>Skew:</th>          <td>-0.006</td> <th>  Prob(JB):          </th> <td>   0.928</td>\n",
       "</tr>\n",
       "<tr>\n",
       "  <th>Kurtosis:</th>      <td> 2.840</td> <th>  Cond. No.          </th> <td>    328.</td>\n",
       "</tr>\n",
       "</table><br/><br/>Notes:<br/>[1] Standard Errors assume that the covariance matrix of the errors is correctly specified."
      ],
      "text/plain": [
       "<class 'statsmodels.iolib.summary.Summary'>\n",
       "\"\"\"\n",
       "                            OLS Regression Results                            \n",
       "==============================================================================\n",
       "Dep. Variable:                  Sales   R-squared:                       0.816\n",
       "Model:                            OLS   Adj. R-squared:                  0.814\n",
       "Method:                 Least Squares   F-statistic:                     611.2\n",
       "Date:                Mon, 02 Jun 2025   Prob (F-statistic):           1.52e-52\n",
       "Time:                        13:35:43   Log-Likelihood:                -321.12\n",
       "No. Observations:                 140   AIC:                             646.2\n",
       "Df Residuals:                     138   BIC:                             652.1\n",
       "Df Model:                           1                                         \n",
       "Covariance Type:            nonrobust                                         \n",
       "==============================================================================\n",
       "                 coef    std err          t      P>|t|      [0.025      0.975]\n",
       "------------------------------------------------------------------------------\n",
       "const          6.9487      0.385     18.068      0.000       6.188       7.709\n",
       "TV             0.0545      0.002     24.722      0.000       0.050       0.059\n",
       "==============================================================================\n",
       "Omnibus:                        0.027   Durbin-Watson:                   2.196\n",
       "Prob(Omnibus):                  0.987   Jarque-Bera (JB):                0.150\n",
       "Skew:                          -0.006   Prob(JB):                        0.928\n",
       "Kurtosis:                       2.840   Cond. No.                         328.\n",
       "==============================================================================\n",
       "\n",
       "Notes:\n",
       "[1] Standard Errors assume that the covariance matrix of the errors is correctly specified.\n",
       "\"\"\""
      ]
     },
     "execution_count": 19,
     "metadata": {},
     "output_type": "execute_result"
    }
   ],
   "source": [
    "#model that we got is Sales = 6.94 + 0.054TV\n",
    "#access the details of the model for ols regression result\n",
    "lr_model.summary()\n",
    "#so this below detailed summary is given only by statsmodel and not sklearn"
   ]
  },
  {
   "cell_type": "markdown",
   "id": "83a673dd",
   "metadata": {},
   "source": [
    "### Summary of above result\n",
    "\n",
    "1. coeff and P value where p value is very low\n",
    "2. R2 value is 86% which is very good\n",
    "3. Probability of (F-statistic) is low which basically mean the fit is not purely by chance\n",
    "4. If you look at the summary statistics, you can see that the F-statistic has a value of 611.2 which is a very high value and this, the Prob(F-statistic) is 1.52e-52 (as shown in the table) which is a practically zero value. Hence, the value of less than 0.05 which means that the overall model fit is significant.\n",
    "\n",
    "\n",
    "-  R-squared varies from 0 to 1 wherein a value of 0 implies that none of the variance in the data is explained and a value of 1 implies that all of the variance in the data is explained. Can you answer the question now? Hence, a value of 0.816 is a low value of R-squared which in turn implies that the model doesn't explain much variance present in the data."
   ]
  },
  {
   "cell_type": "code",
   "execution_count": 23,
   "id": "ea7afcbd",
   "metadata": {},
   "outputs": [
    {
     "data": {
      "image/png": "[encoded data removed]",
      "text/plain": [
       "<Figure size 432x288 with 1 Axes>"
      ]
     },
     "metadata": {
      "needs_background": "light"
     },
     "output_type": "display_data"
    }
   ],
   "source": [
    "#to get the feel so we plot the model against the training set\n",
    "\n",
    "plt.scatter(X_train,y_train)\n",
    "#so on the above it we can plot what the model is predicting so what the model predicts will be a straight line\n",
    "#the model is constant and the co-efficient times televison\n",
    "plt.plot(X_train,6.94 + 0.054*X_train,'r')\n",
    "plt.show()"
   ]
  },
  {
   "cell_type": "markdown",
   "id": "b693a332",
   "metadata": {},
   "source": [
    "- visualised the predicted regression line on the scatter plot of the training data which is one of the things you should do as a part of model evaluation."
   ]
  },
  {
   "cell_type": "markdown",
   "id": "9ff836fa",
   "metadata": {},
   "source": [
    "- So once you have built the model, you'd need to verify if your model is not violating this assumption. And doing this is fairly simple: you just plot a histogram of the error terms to check whether they are normally distributed. And another assumption was that the error terms should be independent of each other. Again for this, you need to plot the error terms, \n",
    "   this time with either of X or y to check for any patterns. "
   ]
  },
  {
   "cell_type": "markdown",
   "id": "59c5955b",
   "metadata": {},
   "source": [
    "## Step 3 :- Residual analysis\n",
    "\n",
    "- In this step we will plot the residual.The gap between the training set and testing set and the fundamantal assumption is that the residual should be normally distruabated.\n",
    "- Distrubation of error terms [ y set ]\n",
    "- Model makes prediction for y train"
   ]
  },
  {
   "cell_type": "code",
   "execution_count": null,
   "id": "b86ada90",
   "metadata": {},
   "outputs": [],
   "source": [
    "#error = f(y_train,y_train_pred)\n"
   ]
  },
  {
   "cell_type": "code",
   "execution_count": 24,
   "id": "3ff014d8",
   "metadata": {},
   "outputs": [
    {
     "data": {
      "text/plain": [
       "74     18.588747\n",
       "3      15.212365\n",
       "185    18.130563\n",
       "26     14.743271\n",
       "90     14.274178\n",
       "         ...    \n",
       "87     12.986898\n",
       "103    17.197830\n",
       "67     14.546907\n",
       "24     10.346884\n",
       "8       7.417777\n",
       "Length: 140, dtype: float64"
      ]
     },
     "execution_count": 24,
     "metadata": {},
     "output_type": "execute_result"
    }
   ],
   "source": [
    "y_train_pred=lr_model.predict(X_train_sm)\n",
    "y_train_pred"
   ]
  },
  {
   "cell_type": "code",
   "execution_count": 25,
   "id": "dbbdf53c",
   "metadata": {},
   "outputs": [],
   "source": [
    "#error analysis\n",
    "res = y_train - y_train_pred\n"
   ]
  },
  {
   "cell_type": "code",
   "execution_count": 27,
   "id": "1f51dab0",
   "metadata": {},
   "outputs": [
    {
     "name": "stderr",
     "output_type": "stream",
     "text": [
      "/Users/ptechsvy/opt/anaconda3/lib/python3.9/site-packages/seaborn/distributions.py:2619: FutureWarning: `distplot` is a deprecated function and will be removed in a future version. Please adapt your code to use either `displot` (a figure-level function with similar flexibility) or `histplot` (an axes-level function for histograms).\n",
      "  warnings.warn(msg, FutureWarning)\n"
     ]
    },
    {
     "data": {
      "text/plain": [
       "Text(0.5, 1.0, 'Residual plot')"
      ]
     },
     "execution_count": 27,
     "metadata": {},
     "output_type": "execute_result"
    },
    {
     "data": {
      "image/png": "[encoded data removed]",
      "text/plain": [
       "<Figure size 432x288 with 1 Axes>"
      ]
     },
     "metadata": {
      "needs_background": "light"
     },
     "output_type": "display_data"
    }
   ],
   "source": [
    "#plot in histogram\n",
    "plt.figure()\n",
    "sns.distplot(res)\n",
    "plt.title(\"Residual plot\")"
   ]
  },
  {
   "cell_type": "code",
   "execution_count": 28,
   "id": "f784ad42",
   "metadata": {},
   "outputs": [
    {
     "data": {
      "image/png": "[encoded data removed]",
      "text/plain": [
       "<Figure size 432x288 with 1 Axes>"
      ]
     },
     "metadata": {
      "needs_background": "light"
     },
     "output_type": "display_data"
    }
   ],
   "source": [
    "#look for patterns in residual\n",
    "plt.scatter(X_train,res)\n",
    "plt.show()"
   ]
  },
  {
   "cell_type": "markdown",
   "id": "4e86108a",
   "metadata": {},
   "source": [
    "- The residuals are normally distributed, and there are no visible patterns in the error terms (except for the fact that the variance seems to be increasing a little for the higher values). So, this model fit looks good.Also the data is good for linear regression"
   ]
  },
  {
   "cell_type": "markdown",
   "id": "24d4b56a",
   "metadata": {},
   "source": [
    "### Step 4: Predictions and evaluatiNG MODEL based on Test  set\n",
    "\n",
    "The two simple steps involved to fit a line are:\n",
    "\n",
    "- sm.add_constant(X)\n",
    "- sm.OLS(y, X).fit()"
   ]
  },
  {
   "cell_type": "code",
   "execution_count": 31,
   "id": "80884e3a",
   "metadata": {},
   "outputs": [],
   "source": [
    "# so we have trained model so we will use it to make prediction on test set(y_test_pred)\n",
    "#add a constant to test set\n",
    "X_test_sm = sm.add_constant(X_test)\n",
    "\n",
    "#pred on test\n",
    "y_test_pred=lr_model.predict(X_test_sm)"
   ]
  },
  {
   "cell_type": "code",
   "execution_count": 34,
   "id": "17059bdb",
   "metadata": {},
   "outputs": [
    {
     "data": {
      "text/plain": [
       "0.7921031601245658"
      ]
     },
     "execution_count": 34,
     "metadata": {},
     "output_type": "execute_result"
    }
   ],
   "source": [
    "#evaluate the model, rquared ,on the test on what you predicted on what actually is\n",
    "r2 = r2_score(y_true = y_test,y_pred = y_test_pred)\n",
    "r2"
   ]
  },
  {
   "cell_type": "code",
   "execution_count": 35,
   "id": "d6298c29",
   "metadata": {},
   "outputs": [
    {
     "data": {
      "text/plain": [
       "0.8157933136480389"
      ]
     },
     "execution_count": 35,
     "metadata": {},
     "output_type": "execute_result"
    }
   ],
   "source": [
    "#r2 on train model\n",
    "r2 = r2_score(y_true = y_train,y_pred = y_train_pred)\n",
    "r2"
   ]
  },
  {
   "cell_type": "markdown",
   "id": "e8138666",
   "metadata": {},
   "source": [
    "In general within 5% is good and it indicates stability so the above is stable"
   ]
  },
  {
   "cell_type": "code",
   "execution_count": 36,
   "id": "1837049d",
   "metadata": {},
   "outputs": [
    {
     "data": {
      "text/plain": [
       "4.077556371826956"
      ]
     },
     "execution_count": 36,
     "metadata": {},
     "output_type": "execute_result"
    }
   ],
   "source": [
    "#mean squared error\n",
    "mean_squared_error(y_true = y_test,y_pred = y_test_pred)"
   ]
  },
  {
   "cell_type": "code",
   "execution_count": 37,
   "id": "a19382f3",
   "metadata": {},
   "outputs": [
    {
     "data": {
      "image/png": "[encoded data removed]",
      "text/plain": [
       "<Figure size 432x288 with 1 Axes>"
      ]
     },
     "metadata": {
      "needs_background": "light"
     },
     "output_type": "display_data"
    }
   ],
   "source": [
    "plt.scatter(X_test,y_test)\n",
    "plt.plot(X_test,y_test_pred,'r')\n",
    "plt.show()"
   ]
  },
  {
   "cell_type": "markdown",
   "id": "da792cc3",
   "metadata": {},
   "source": [
    "### Linear Regression using Skikit Learn\n",
    "\n",
    "- Skikit Learn is goto package for ML \n",
    "- SKLearn is a ‘lighter’ version of the linear regression packages.\n"
   ]
  },
  {
   "cell_type": "code",
   "execution_count": 47,
   "id": "49b7eb76",
   "metadata": {},
   "outputs": [
    {
     "data": {
      "text/plain": [
       "(140,)"
      ]
     },
     "execution_count": 47,
     "metadata": {},
     "output_type": "execute_result"
    }
   ],
   "source": [
    "#create train-test split\n",
    "X_train,X_test,y_train,y_test = train_test_split(X,y,train_size=0.70,random_state=100)\n",
    "X_train.shape"
   ]
  },
  {
   "cell_type": "markdown",
   "id": "9864f771",
   "metadata": {},
   "source": [
    "## steps in sklearn model -\n",
    "\n",
    "-  Create an object of linear regression\n",
    "- Fit the model to learn the co-efficient\n",
    "- see the params,make prediction\n",
    "- evaluate the model(r2,msme,etc)"
   ]
  },
  {
   "cell_type": "code",
   "execution_count": 44,
   "id": "106ef5ee",
   "metadata": {},
   "outputs": [],
   "source": [
    "#reshape by asking numpy as it is single array and we need in series\n",
    "X_train_lm = X_train.values.reshape(-1,1)\n",
    "X_test_lm = X_test.values.reshape(-1,1)"
   ]
  },
  {
   "cell_type": "code",
   "execution_count": 48,
   "id": "1a41d51e",
   "metadata": {},
   "outputs": [
    {
     "data": {
      "text/plain": [
       "LinearRegression()"
      ]
     },
     "execution_count": 48,
     "metadata": {},
     "output_type": "execute_result"
    }
   ],
   "source": [
    "lm = LinearRegression()\n",
    "\n",
    "lm.fit(X_train_lm,y_train)"
   ]
  },
  {
   "cell_type": "code",
   "execution_count": 56,
   "id": "e1e010a8",
   "metadata": {},
   "outputs": [
    {
     "name": "stdout",
     "output_type": "stream",
     "text": [
      "[0.05454575]\n",
      "6.94868320000136\n"
     ]
    }
   ],
   "source": [
    "#lm.coeff_ gives you the value of \n",
    "#β1 which is the slope of the fitted line.\n",
    "print(lm.coef_)\n",
    "print(lm.intercept_)\n",
    "\n"
   ]
  },
  {
   "cell_type": "code",
   "execution_count": 52,
   "id": "8ee38dac",
   "metadata": {},
   "outputs": [],
   "source": [
    "# make predictions\n",
    "y_train_pred = lm.predict(X_train_lm)"
   ]
  },
  {
   "cell_type": "code",
   "execution_count": 53,
   "id": "07f7ce91",
   "metadata": {},
   "outputs": [],
   "source": [
    "y_test_pred = lm.predict(X_test_lm)"
   ]
  },
  {
   "cell_type": "code",
   "execution_count": 55,
   "id": "e5f3aeb0",
   "metadata": {},
   "outputs": [
    {
     "name": "stdout",
     "output_type": "stream",
     "text": [
      "0.8157933136480388\n",
      "0.792103160124566\n"
     ]
    }
   ],
   "source": [
    "# evaluate the model\n",
    "print(r2_score(y_true = y_train,y_pred = y_train_pred))\n",
    "print(r2_score(y_true = y_test,y_pred = y_test_pred))"
   ]
  },
  {
   "cell_type": "markdown",
   "id": "60a5620b",
   "metadata": {},
   "source": [
    " - using sklearn is much more straightforward but it does not give detailed details"
   ]
  },
  {
   "cell_type": "code",
   "execution_count": null,
   "id": "388c3e75",
   "metadata": {},
   "outputs": [],
   "source": []
  }
 ],
 "metadata": {
  "kernelspec": {
   "display_name": "Python 3 (ipykernel)",
   "language": "python",
   "name": "python3"
  },
  "language_info": {
   "codemirror_mode": {
    "name": "ipython",
    "version": 3
   },
   "file_extension": ".py",
   "mimetype": "text/x-python",
   "name": "python",
   "nbconvert_exporter": "python",
   "pygments_lexer": "ipython3",
   "version": "3.9.12"
  }
 },
 "nbformat": 4,
 "nbformat_minor": 5
}
